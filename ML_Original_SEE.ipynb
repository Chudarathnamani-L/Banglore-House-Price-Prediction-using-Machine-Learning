{
 "cells": [
  {
   "cell_type": "markdown",
   "metadata": {
    "id": "IpL5v1Sf3RWI"
   },
   "source": [
    "# Bangalore House Price Prediction - Outlier Detection"
   ]
  },
  {
   "cell_type": "markdown",
   "metadata": {
    "id": "PVLMn1d8k7He"
   },
   "source": [
    "This notebook only train ML model on different ml algorithms"
   ]
  },
  {
   "cell_type": "code",
   "execution_count": 52,
   "metadata": {
    "id": "gOSX3Cyj3MMb"
   },
   "outputs": [],
   "source": [
    "import numpy as np\n",
    "import pandas as pd\n",
    "import matplotlib.pyplot as plt\n",
    "import seaborn as sns"
   ]
  },
  {
   "cell_type": "code",
   "execution_count": 53,
   "metadata": {
    "id": "xRx0SRBGC54j"
   },
   "outputs": [],
   "source": [
    "pd.set_option(\"display.max_columns\", None)\n",
    "pd.set_option(\"display.max_rows\", None)"
   ]
  },
  {
   "cell_type": "code",
   "execution_count": 54,
   "metadata": {
    "colab": {
     "base_uri": "https://localhost:8080/"
    },
    "id": "bZyJo0ya2OVT",
    "outputId": "c71475cb-60ac-42bc-d3d6-202f424b2496"
   },
   "outputs": [
    {
     "data": {
      "text/plain": [
       "'from google.colab import files\\nfiles=files.upload()'"
      ]
     },
     "execution_count": 54,
     "metadata": {},
     "output_type": "execute_result"
    }
   ],
   "source": [
    "\"\"\"from google.colab import files\n",
    "files=files.upload()\"\"\"\n",
    "# df = pd.read_csv('/content/oh_encoded_data.csv')"
   ]
  },
  {
   "cell_type": "code",
   "execution_count": 55,
   "metadata": {
    "colab": {
     "base_uri": "https://localhost:8080/"
    },
    "id": "Gp8WO-ZhNc6w",
    "outputId": "44544c62-a0f2-4445-840b-b43f388440f2",
    "tags": []
   },
   "outputs": [
    {
     "data": {
      "text/plain": [
       "(7120, 109)"
      ]
     },
     "execution_count": 55,
     "metadata": {},
     "output_type": "execute_result"
    }
   ],
   "source": [
    "df = pd.read_csv('ohe_data_reduce_cat_class.csv')\n",
    "df.shape"
   ]
  },
  {
   "cell_type": "code",
   "execution_count": 56,
   "metadata": {
    "colab": {
     "base_uri": "https://localhost:8080/"
    },
    "id": "WP8pY6-IlxRJ",
    "outputId": "a966c9a7-a670-4ef3-e67e-e7e1b5c4e42d"
   },
   "outputs": [
    {
     "data": {
      "text/plain": [
       "(7120, 109)"
      ]
     },
     "execution_count": 56,
     "metadata": {},
     "output_type": "execute_result"
    }
   ],
   "source": [
    "df.shape"
   ]
  },
  {
   "cell_type": "code",
   "execution_count": 57,
   "metadata": {
    "colab": {
     "base_uri": "https://localhost:8080/",
     "height": 261
    },
    "id": "VFKjUlZtPQgS",
    "outputId": "d3c56271-cb0a-4699-93c0-174b97d34db0"
   },
   "outputs": [
    {
     "data": {
      "text/html": [
       "<div>\n",
       "<style scoped>\n",
       "    .dataframe tbody tr th:only-of-type {\n",
       "        vertical-align: middle;\n",
       "    }\n",
       "\n",
       "    .dataframe tbody tr th {\n",
       "        vertical-align: top;\n",
       "    }\n",
       "\n",
       "    .dataframe thead th {\n",
       "        text-align: right;\n",
       "    }\n",
       "</style>\n",
       "<table border=\"1\" class=\"dataframe\">\n",
       "  <thead>\n",
       "    <tr style=\"text-align: right;\">\n",
       "      <th></th>\n",
       "      <th>bath</th>\n",
       "      <th>balcony</th>\n",
       "      <th>price</th>\n",
       "      <th>total_sqft_int</th>\n",
       "      <th>bhk</th>\n",
       "      <th>price_per_sqft</th>\n",
       "      <th>area_typeSuper built-up  Area</th>\n",
       "      <th>area_typeBuilt-up  Area</th>\n",
       "      <th>area_typePlot  Area</th>\n",
       "      <th>availability_Ready To Move</th>\n",
       "      <th>location_other</th>\n",
       "      <th>location_Whitefield</th>\n",
       "      <th>location_Sarjapur  Road</th>\n",
       "      <th>location_Electronic City</th>\n",
       "      <th>location_Haralur Road</th>\n",
       "      <th>location_Marathahalli</th>\n",
       "      <th>location_Raja Rajeshwari Nagar</th>\n",
       "      <th>location_Bannerghatta Road</th>\n",
       "      <th>location_Hennur Road</th>\n",
       "      <th>location_Uttarahalli</th>\n",
       "      <th>location_Thanisandra</th>\n",
       "      <th>location_Electronic City Phase II</th>\n",
       "      <th>location_Hebbal</th>\n",
       "      <th>location_7th Phase JP Nagar</th>\n",
       "      <th>location_Yelahanka</th>\n",
       "      <th>location_Kanakpura Road</th>\n",
       "      <th>location_KR Puram</th>\n",
       "      <th>location_Sarjapur</th>\n",
       "      <th>location_Rajaji Nagar</th>\n",
       "      <th>location_Bellandur</th>\n",
       "      <th>location_Kasavanhalli</th>\n",
       "      <th>location_Begur Road</th>\n",
       "      <th>location_Banashankari</th>\n",
       "      <th>location_Kothanur</th>\n",
       "      <th>location_Hormavu</th>\n",
       "      <th>location_Harlur</th>\n",
       "      <th>location_Akshaya Nagar</th>\n",
       "      <th>location_Jakkur</th>\n",
       "      <th>location_Electronics City Phase 1</th>\n",
       "      <th>location_Varthur</th>\n",
       "      <th>location_Hennur</th>\n",
       "      <th>location_HSR Layout</th>\n",
       "      <th>location_Chandapura</th>\n",
       "      <th>location_Ramamurthy Nagar</th>\n",
       "      <th>location_Kaggadasapura</th>\n",
       "      <th>location_Koramangala</th>\n",
       "      <th>location_Kundalahalli</th>\n",
       "      <th>location_Ramagondanahalli</th>\n",
       "      <th>location_Budigere</th>\n",
       "      <th>location_Hulimavu</th>\n",
       "      <th>location_Hoodi</th>\n",
       "      <th>location_Malleshwaram</th>\n",
       "      <th>location_JP Nagar</th>\n",
       "      <th>location_Yeshwanthpur</th>\n",
       "      <th>location_Hegde Nagar</th>\n",
       "      <th>location_8th Phase JP Nagar</th>\n",
       "      <th>location_Gottigere</th>\n",
       "      <th>location_Channasandra</th>\n",
       "      <th>location_Bisuvanahalli</th>\n",
       "      <th>location_Vittasandra</th>\n",
       "      <th>location_Indira Nagar</th>\n",
       "      <th>location_Old Airport Road</th>\n",
       "      <th>location_Sahakara Nagar</th>\n",
       "      <th>location_Hosa Road</th>\n",
       "      <th>location_Brookefield</th>\n",
       "      <th>location_Vijayanagar</th>\n",
       "      <th>location_Kengeri</th>\n",
       "      <th>location_Bommasandra</th>\n",
       "      <th>location_Balagere</th>\n",
       "      <th>location_Green Glen Layout</th>\n",
       "      <th>location_Rachenahalli</th>\n",
       "      <th>location_Panathur</th>\n",
       "      <th>location_Kudlu Gate</th>\n",
       "      <th>location_Old Madras Road</th>\n",
       "      <th>location_Talaghattapura</th>\n",
       "      <th>location_Thigalarapalya</th>\n",
       "      <th>location_Ambedkar Nagar</th>\n",
       "      <th>location_Yelahanka New Town</th>\n",
       "      <th>location_Mysore Road</th>\n",
       "      <th>location_Jigani</th>\n",
       "      <th>location_Kadugodi</th>\n",
       "      <th>location_Kanakapura</th>\n",
       "      <th>location_Devanahalli</th>\n",
       "      <th>location_Dodda Nekkundi</th>\n",
       "      <th>location_Attibele</th>\n",
       "      <th>location_Frazer Town</th>\n",
       "      <th>location_Nagarbhavi</th>\n",
       "      <th>location_Lakshminarayana Pura</th>\n",
       "      <th>location_Ananth Nagar</th>\n",
       "      <th>location_Anekal</th>\n",
       "      <th>location_5th Phase JP Nagar</th>\n",
       "      <th>location_TC Palaya</th>\n",
       "      <th>location_CV Raman Nagar</th>\n",
       "      <th>location_Jalahalli</th>\n",
       "      <th>location_Kengeri Satellite Town</th>\n",
       "      <th>location_Kudlu</th>\n",
       "      <th>location_Kalena Agrahara</th>\n",
       "      <th>location_Bhoganhalli</th>\n",
       "      <th>location_Doddathoguru</th>\n",
       "      <th>location_Horamavu Agara</th>\n",
       "      <th>location_Subramanyapura</th>\n",
       "      <th>location_BTM 2nd Stage</th>\n",
       "      <th>location_Hebbal Kempapura</th>\n",
       "      <th>location_Hosur Road</th>\n",
       "      <th>location_Vidyaranyapura</th>\n",
       "      <th>location_Mahadevpura</th>\n",
       "      <th>location_Tumkur Road</th>\n",
       "      <th>location_Domlur</th>\n",
       "      <th>location_Horamavu Banaswadi</th>\n",
       "    </tr>\n",
       "  </thead>\n",
       "  <tbody>\n",
       "    <tr>\n",
       "      <th>0</th>\n",
       "      <td>0.694750</td>\n",
       "      <td>0.554478</td>\n",
       "      <td>0.460892</td>\n",
       "      <td>0.210427</td>\n",
       "      <td>0.635599</td>\n",
       "      <td>1.192067</td>\n",
       "      <td>1</td>\n",
       "      <td>0</td>\n",
       "      <td>0</td>\n",
       "      <td>1</td>\n",
       "      <td>1</td>\n",
       "      <td>0</td>\n",
       "      <td>0</td>\n",
       "      <td>0</td>\n",
       "      <td>0</td>\n",
       "      <td>0</td>\n",
       "      <td>0</td>\n",
       "      <td>0</td>\n",
       "      <td>0</td>\n",
       "      <td>0</td>\n",
       "      <td>0</td>\n",
       "      <td>0</td>\n",
       "      <td>0</td>\n",
       "      <td>0</td>\n",
       "      <td>0</td>\n",
       "      <td>0</td>\n",
       "      <td>0</td>\n",
       "      <td>0</td>\n",
       "      <td>0</td>\n",
       "      <td>0</td>\n",
       "      <td>0</td>\n",
       "      <td>0</td>\n",
       "      <td>0</td>\n",
       "      <td>0</td>\n",
       "      <td>0</td>\n",
       "      <td>0</td>\n",
       "      <td>0</td>\n",
       "      <td>0</td>\n",
       "      <td>0</td>\n",
       "      <td>0</td>\n",
       "      <td>0</td>\n",
       "      <td>0</td>\n",
       "      <td>0</td>\n",
       "      <td>0</td>\n",
       "      <td>0</td>\n",
       "      <td>0</td>\n",
       "      <td>0</td>\n",
       "      <td>0</td>\n",
       "      <td>0</td>\n",
       "      <td>0</td>\n",
       "      <td>0</td>\n",
       "      <td>0</td>\n",
       "      <td>0</td>\n",
       "      <td>0</td>\n",
       "      <td>0</td>\n",
       "      <td>0</td>\n",
       "      <td>0</td>\n",
       "      <td>0</td>\n",
       "      <td>0</td>\n",
       "      <td>0</td>\n",
       "      <td>0</td>\n",
       "      <td>0</td>\n",
       "      <td>0</td>\n",
       "      <td>0</td>\n",
       "      <td>0</td>\n",
       "      <td>0</td>\n",
       "      <td>0</td>\n",
       "      <td>0</td>\n",
       "      <td>0</td>\n",
       "      <td>0</td>\n",
       "      <td>0</td>\n",
       "      <td>0</td>\n",
       "      <td>0</td>\n",
       "      <td>0</td>\n",
       "      <td>0</td>\n",
       "      <td>0</td>\n",
       "      <td>0</td>\n",
       "      <td>0</td>\n",
       "      <td>0</td>\n",
       "      <td>0</td>\n",
       "      <td>0</td>\n",
       "      <td>0</td>\n",
       "      <td>0</td>\n",
       "      <td>0</td>\n",
       "      <td>0</td>\n",
       "      <td>0</td>\n",
       "      <td>0</td>\n",
       "      <td>0</td>\n",
       "      <td>0</td>\n",
       "      <td>0</td>\n",
       "      <td>0</td>\n",
       "      <td>0</td>\n",
       "      <td>0</td>\n",
       "      <td>0</td>\n",
       "      <td>0</td>\n",
       "      <td>0</td>\n",
       "      <td>0</td>\n",
       "      <td>0</td>\n",
       "      <td>0</td>\n",
       "      <td>0</td>\n",
       "      <td>0</td>\n",
       "      <td>0</td>\n",
       "      <td>0</td>\n",
       "      <td>0</td>\n",
       "      <td>0</td>\n",
       "      <td>0</td>\n",
       "      <td>0</td>\n",
       "      <td>0</td>\n",
       "      <td>0</td>\n",
       "    </tr>\n",
       "    <tr>\n",
       "      <th>1</th>\n",
       "      <td>0.694750</td>\n",
       "      <td>1.852288</td>\n",
       "      <td>0.452285</td>\n",
       "      <td>0.295792</td>\n",
       "      <td>0.635599</td>\n",
       "      <td>1.013303</td>\n",
       "      <td>0</td>\n",
       "      <td>1</td>\n",
       "      <td>0</td>\n",
       "      <td>1</td>\n",
       "      <td>1</td>\n",
       "      <td>0</td>\n",
       "      <td>0</td>\n",
       "      <td>0</td>\n",
       "      <td>0</td>\n",
       "      <td>0</td>\n",
       "      <td>0</td>\n",
       "      <td>0</td>\n",
       "      <td>0</td>\n",
       "      <td>0</td>\n",
       "      <td>0</td>\n",
       "      <td>0</td>\n",
       "      <td>0</td>\n",
       "      <td>0</td>\n",
       "      <td>0</td>\n",
       "      <td>0</td>\n",
       "      <td>0</td>\n",
       "      <td>0</td>\n",
       "      <td>0</td>\n",
       "      <td>0</td>\n",
       "      <td>0</td>\n",
       "      <td>0</td>\n",
       "      <td>0</td>\n",
       "      <td>0</td>\n",
       "      <td>0</td>\n",
       "      <td>0</td>\n",
       "      <td>0</td>\n",
       "      <td>0</td>\n",
       "      <td>0</td>\n",
       "      <td>0</td>\n",
       "      <td>0</td>\n",
       "      <td>0</td>\n",
       "      <td>0</td>\n",
       "      <td>0</td>\n",
       "      <td>0</td>\n",
       "      <td>0</td>\n",
       "      <td>0</td>\n",
       "      <td>0</td>\n",
       "      <td>0</td>\n",
       "      <td>0</td>\n",
       "      <td>0</td>\n",
       "      <td>0</td>\n",
       "      <td>0</td>\n",
       "      <td>0</td>\n",
       "      <td>0</td>\n",
       "      <td>0</td>\n",
       "      <td>0</td>\n",
       "      <td>0</td>\n",
       "      <td>0</td>\n",
       "      <td>0</td>\n",
       "      <td>0</td>\n",
       "      <td>0</td>\n",
       "      <td>0</td>\n",
       "      <td>0</td>\n",
       "      <td>0</td>\n",
       "      <td>0</td>\n",
       "      <td>0</td>\n",
       "      <td>0</td>\n",
       "      <td>0</td>\n",
       "      <td>0</td>\n",
       "      <td>0</td>\n",
       "      <td>0</td>\n",
       "      <td>0</td>\n",
       "      <td>0</td>\n",
       "      <td>0</td>\n",
       "      <td>0</td>\n",
       "      <td>0</td>\n",
       "      <td>0</td>\n",
       "      <td>0</td>\n",
       "      <td>0</td>\n",
       "      <td>0</td>\n",
       "      <td>0</td>\n",
       "      <td>0</td>\n",
       "      <td>0</td>\n",
       "      <td>0</td>\n",
       "      <td>0</td>\n",
       "      <td>0</td>\n",
       "      <td>0</td>\n",
       "      <td>0</td>\n",
       "      <td>0</td>\n",
       "      <td>0</td>\n",
       "      <td>0</td>\n",
       "      <td>0</td>\n",
       "      <td>0</td>\n",
       "      <td>0</td>\n",
       "      <td>0</td>\n",
       "      <td>0</td>\n",
       "      <td>0</td>\n",
       "      <td>0</td>\n",
       "      <td>0</td>\n",
       "      <td>0</td>\n",
       "      <td>0</td>\n",
       "      <td>0</td>\n",
       "      <td>0</td>\n",
       "      <td>0</td>\n",
       "      <td>0</td>\n",
       "      <td>0</td>\n",
       "      <td>0</td>\n",
       "      <td>0</td>\n",
       "    </tr>\n",
       "    <tr>\n",
       "      <th>2</th>\n",
       "      <td>0.694750</td>\n",
       "      <td>0.554478</td>\n",
       "      <td>0.460892</td>\n",
       "      <td>0.295792</td>\n",
       "      <td>0.635599</td>\n",
       "      <td>1.035655</td>\n",
       "      <td>1</td>\n",
       "      <td>0</td>\n",
       "      <td>0</td>\n",
       "      <td>1</td>\n",
       "      <td>1</td>\n",
       "      <td>0</td>\n",
       "      <td>0</td>\n",
       "      <td>0</td>\n",
       "      <td>0</td>\n",
       "      <td>0</td>\n",
       "      <td>0</td>\n",
       "      <td>0</td>\n",
       "      <td>0</td>\n",
       "      <td>0</td>\n",
       "      <td>0</td>\n",
       "      <td>0</td>\n",
       "      <td>0</td>\n",
       "      <td>0</td>\n",
       "      <td>0</td>\n",
       "      <td>0</td>\n",
       "      <td>0</td>\n",
       "      <td>0</td>\n",
       "      <td>0</td>\n",
       "      <td>0</td>\n",
       "      <td>0</td>\n",
       "      <td>0</td>\n",
       "      <td>0</td>\n",
       "      <td>0</td>\n",
       "      <td>0</td>\n",
       "      <td>0</td>\n",
       "      <td>0</td>\n",
       "      <td>0</td>\n",
       "      <td>0</td>\n",
       "      <td>0</td>\n",
       "      <td>0</td>\n",
       "      <td>0</td>\n",
       "      <td>0</td>\n",
       "      <td>0</td>\n",
       "      <td>0</td>\n",
       "      <td>0</td>\n",
       "      <td>0</td>\n",
       "      <td>0</td>\n",
       "      <td>0</td>\n",
       "      <td>0</td>\n",
       "      <td>0</td>\n",
       "      <td>0</td>\n",
       "      <td>0</td>\n",
       "      <td>0</td>\n",
       "      <td>0</td>\n",
       "      <td>0</td>\n",
       "      <td>0</td>\n",
       "      <td>0</td>\n",
       "      <td>0</td>\n",
       "      <td>0</td>\n",
       "      <td>0</td>\n",
       "      <td>0</td>\n",
       "      <td>0</td>\n",
       "      <td>0</td>\n",
       "      <td>0</td>\n",
       "      <td>0</td>\n",
       "      <td>0</td>\n",
       "      <td>0</td>\n",
       "      <td>0</td>\n",
       "      <td>0</td>\n",
       "      <td>0</td>\n",
       "      <td>0</td>\n",
       "      <td>0</td>\n",
       "      <td>0</td>\n",
       "      <td>0</td>\n",
       "      <td>0</td>\n",
       "      <td>0</td>\n",
       "      <td>0</td>\n",
       "      <td>0</td>\n",
       "      <td>0</td>\n",
       "      <td>0</td>\n",
       "      <td>0</td>\n",
       "      <td>0</td>\n",
       "      <td>0</td>\n",
       "      <td>0</td>\n",
       "      <td>0</td>\n",
       "      <td>0</td>\n",
       "      <td>0</td>\n",
       "      <td>0</td>\n",
       "      <td>0</td>\n",
       "      <td>0</td>\n",
       "      <td>0</td>\n",
       "      <td>0</td>\n",
       "      <td>0</td>\n",
       "      <td>0</td>\n",
       "      <td>0</td>\n",
       "      <td>0</td>\n",
       "      <td>0</td>\n",
       "      <td>0</td>\n",
       "      <td>0</td>\n",
       "      <td>0</td>\n",
       "      <td>0</td>\n",
       "      <td>0</td>\n",
       "      <td>0</td>\n",
       "      <td>0</td>\n",
       "      <td>0</td>\n",
       "      <td>0</td>\n",
       "      <td>0</td>\n",
       "      <td>0</td>\n",
       "    </tr>\n",
       "    <tr>\n",
       "      <th>3</th>\n",
       "      <td>-0.445813</td>\n",
       "      <td>0.554478</td>\n",
       "      <td>-0.485940</td>\n",
       "      <td>-0.251424</td>\n",
       "      <td>-0.552811</td>\n",
       "      <td>-1.065456</td>\n",
       "      <td>1</td>\n",
       "      <td>0</td>\n",
       "      <td>0</td>\n",
       "      <td>1</td>\n",
       "      <td>1</td>\n",
       "      <td>0</td>\n",
       "      <td>0</td>\n",
       "      <td>0</td>\n",
       "      <td>0</td>\n",
       "      <td>0</td>\n",
       "      <td>0</td>\n",
       "      <td>0</td>\n",
       "      <td>0</td>\n",
       "      <td>0</td>\n",
       "      <td>0</td>\n",
       "      <td>0</td>\n",
       "      <td>0</td>\n",
       "      <td>0</td>\n",
       "      <td>0</td>\n",
       "      <td>0</td>\n",
       "      <td>0</td>\n",
       "      <td>0</td>\n",
       "      <td>0</td>\n",
       "      <td>0</td>\n",
       "      <td>0</td>\n",
       "      <td>0</td>\n",
       "      <td>0</td>\n",
       "      <td>0</td>\n",
       "      <td>0</td>\n",
       "      <td>0</td>\n",
       "      <td>0</td>\n",
       "      <td>0</td>\n",
       "      <td>0</td>\n",
       "      <td>0</td>\n",
       "      <td>0</td>\n",
       "      <td>0</td>\n",
       "      <td>0</td>\n",
       "      <td>0</td>\n",
       "      <td>0</td>\n",
       "      <td>0</td>\n",
       "      <td>0</td>\n",
       "      <td>0</td>\n",
       "      <td>0</td>\n",
       "      <td>0</td>\n",
       "      <td>0</td>\n",
       "      <td>0</td>\n",
       "      <td>0</td>\n",
       "      <td>0</td>\n",
       "      <td>0</td>\n",
       "      <td>0</td>\n",
       "      <td>0</td>\n",
       "      <td>0</td>\n",
       "      <td>0</td>\n",
       "      <td>0</td>\n",
       "      <td>0</td>\n",
       "      <td>0</td>\n",
       "      <td>0</td>\n",
       "      <td>0</td>\n",
       "      <td>0</td>\n",
       "      <td>0</td>\n",
       "      <td>0</td>\n",
       "      <td>0</td>\n",
       "      <td>0</td>\n",
       "      <td>0</td>\n",
       "      <td>0</td>\n",
       "      <td>0</td>\n",
       "      <td>0</td>\n",
       "      <td>0</td>\n",
       "      <td>0</td>\n",
       "      <td>0</td>\n",
       "      <td>0</td>\n",
       "      <td>0</td>\n",
       "      <td>0</td>\n",
       "      <td>0</td>\n",
       "      <td>0</td>\n",
       "      <td>0</td>\n",
       "      <td>0</td>\n",
       "      <td>0</td>\n",
       "      <td>0</td>\n",
       "      <td>0</td>\n",
       "      <td>0</td>\n",
       "      <td>0</td>\n",
       "      <td>0</td>\n",
       "      <td>0</td>\n",
       "      <td>0</td>\n",
       "      <td>0</td>\n",
       "      <td>0</td>\n",
       "      <td>0</td>\n",
       "      <td>0</td>\n",
       "      <td>0</td>\n",
       "      <td>0</td>\n",
       "      <td>0</td>\n",
       "      <td>0</td>\n",
       "      <td>0</td>\n",
       "      <td>0</td>\n",
       "      <td>0</td>\n",
       "      <td>0</td>\n",
       "      <td>0</td>\n",
       "      <td>0</td>\n",
       "      <td>0</td>\n",
       "      <td>0</td>\n",
       "      <td>0</td>\n",
       "      <td>0</td>\n",
       "    </tr>\n",
       "    <tr>\n",
       "      <th>4</th>\n",
       "      <td>-0.445813</td>\n",
       "      <td>0.554478</td>\n",
       "      <td>-0.115815</td>\n",
       "      <td>-0.306145</td>\n",
       "      <td>-0.552811</td>\n",
       "      <td>0.388371</td>\n",
       "      <td>0</td>\n",
       "      <td>0</td>\n",
       "      <td>1</td>\n",
       "      <td>1</td>\n",
       "      <td>1</td>\n",
       "      <td>0</td>\n",
       "      <td>0</td>\n",
       "      <td>0</td>\n",
       "      <td>0</td>\n",
       "      <td>0</td>\n",
       "      <td>0</td>\n",
       "      <td>0</td>\n",
       "      <td>0</td>\n",
       "      <td>0</td>\n",
       "      <td>0</td>\n",
       "      <td>0</td>\n",
       "      <td>0</td>\n",
       "      <td>0</td>\n",
       "      <td>0</td>\n",
       "      <td>0</td>\n",
       "      <td>0</td>\n",
       "      <td>0</td>\n",
       "      <td>0</td>\n",
       "      <td>0</td>\n",
       "      <td>0</td>\n",
       "      <td>0</td>\n",
       "      <td>0</td>\n",
       "      <td>0</td>\n",
       "      <td>0</td>\n",
       "      <td>0</td>\n",
       "      <td>0</td>\n",
       "      <td>0</td>\n",
       "      <td>0</td>\n",
       "      <td>0</td>\n",
       "      <td>0</td>\n",
       "      <td>0</td>\n",
       "      <td>0</td>\n",
       "      <td>0</td>\n",
       "      <td>0</td>\n",
       "      <td>0</td>\n",
       "      <td>0</td>\n",
       "      <td>0</td>\n",
       "      <td>0</td>\n",
       "      <td>0</td>\n",
       "      <td>0</td>\n",
       "      <td>0</td>\n",
       "      <td>0</td>\n",
       "      <td>0</td>\n",
       "      <td>0</td>\n",
       "      <td>0</td>\n",
       "      <td>0</td>\n",
       "      <td>0</td>\n",
       "      <td>0</td>\n",
       "      <td>0</td>\n",
       "      <td>0</td>\n",
       "      <td>0</td>\n",
       "      <td>0</td>\n",
       "      <td>0</td>\n",
       "      <td>0</td>\n",
       "      <td>0</td>\n",
       "      <td>0</td>\n",
       "      <td>0</td>\n",
       "      <td>0</td>\n",
       "      <td>0</td>\n",
       "      <td>0</td>\n",
       "      <td>0</td>\n",
       "      <td>0</td>\n",
       "      <td>0</td>\n",
       "      <td>0</td>\n",
       "      <td>0</td>\n",
       "      <td>0</td>\n",
       "      <td>0</td>\n",
       "      <td>0</td>\n",
       "      <td>0</td>\n",
       "      <td>0</td>\n",
       "      <td>0</td>\n",
       "      <td>0</td>\n",
       "      <td>0</td>\n",
       "      <td>0</td>\n",
       "      <td>0</td>\n",
       "      <td>0</td>\n",
       "      <td>0</td>\n",
       "      <td>0</td>\n",
       "      <td>0</td>\n",
       "      <td>0</td>\n",
       "      <td>0</td>\n",
       "      <td>0</td>\n",
       "      <td>0</td>\n",
       "      <td>0</td>\n",
       "      <td>0</td>\n",
       "      <td>0</td>\n",
       "      <td>0</td>\n",
       "      <td>0</td>\n",
       "      <td>0</td>\n",
       "      <td>0</td>\n",
       "      <td>0</td>\n",
       "      <td>0</td>\n",
       "      <td>0</td>\n",
       "      <td>0</td>\n",
       "      <td>0</td>\n",
       "      <td>0</td>\n",
       "      <td>0</td>\n",
       "      <td>0</td>\n",
       "    </tr>\n",
       "  </tbody>\n",
       "</table>\n",
       "</div>"
      ],
      "text/plain": [
       "       bath   balcony     price  total_sqft_int       bhk  price_per_sqft  \\\n",
       "0  0.694750  0.554478  0.460892        0.210427  0.635599        1.192067   \n",
       "1  0.694750  1.852288  0.452285        0.295792  0.635599        1.013303   \n",
       "2  0.694750  0.554478  0.460892        0.295792  0.635599        1.035655   \n",
       "3 -0.445813  0.554478 -0.485940       -0.251424 -0.552811       -1.065456   \n",
       "4 -0.445813  0.554478 -0.115815       -0.306145 -0.552811        0.388371   \n",
       "\n",
       "   area_typeSuper built-up  Area  area_typeBuilt-up  Area  \\\n",
       "0                              1                        0   \n",
       "1                              0                        1   \n",
       "2                              1                        0   \n",
       "3                              1                        0   \n",
       "4                              0                        0   \n",
       "\n",
       "   area_typePlot  Area  availability_Ready To Move  location_other  \\\n",
       "0                    0                           1               1   \n",
       "1                    0                           1               1   \n",
       "2                    0                           1               1   \n",
       "3                    0                           1               1   \n",
       "4                    1                           1               1   \n",
       "\n",
       "   location_Whitefield  location_Sarjapur  Road  location_Electronic City  \\\n",
       "0                    0                        0                         0   \n",
       "1                    0                        0                         0   \n",
       "2                    0                        0                         0   \n",
       "3                    0                        0                         0   \n",
       "4                    0                        0                         0   \n",
       "\n",
       "   location_Haralur Road  location_Marathahalli  \\\n",
       "0                      0                      0   \n",
       "1                      0                      0   \n",
       "2                      0                      0   \n",
       "3                      0                      0   \n",
       "4                      0                      0   \n",
       "\n",
       "   location_Raja Rajeshwari Nagar  location_Bannerghatta Road  \\\n",
       "0                               0                           0   \n",
       "1                               0                           0   \n",
       "2                               0                           0   \n",
       "3                               0                           0   \n",
       "4                               0                           0   \n",
       "\n",
       "   location_Hennur Road  location_Uttarahalli  location_Thanisandra  \\\n",
       "0                     0                     0                     0   \n",
       "1                     0                     0                     0   \n",
       "2                     0                     0                     0   \n",
       "3                     0                     0                     0   \n",
       "4                     0                     0                     0   \n",
       "\n",
       "   location_Electronic City Phase II  location_Hebbal  \\\n",
       "0                                  0                0   \n",
       "1                                  0                0   \n",
       "2                                  0                0   \n",
       "3                                  0                0   \n",
       "4                                  0                0   \n",
       "\n",
       "   location_7th Phase JP Nagar  location_Yelahanka  location_Kanakpura Road  \\\n",
       "0                            0                   0                        0   \n",
       "1                            0                   0                        0   \n",
       "2                            0                   0                        0   \n",
       "3                            0                   0                        0   \n",
       "4                            0                   0                        0   \n",
       "\n",
       "   location_KR Puram  location_Sarjapur  location_Rajaji Nagar  \\\n",
       "0                  0                  0                      0   \n",
       "1                  0                  0                      0   \n",
       "2                  0                  0                      0   \n",
       "3                  0                  0                      0   \n",
       "4                  0                  0                      0   \n",
       "\n",
       "   location_Bellandur  location_Kasavanhalli  location_Begur Road  \\\n",
       "0                   0                      0                    0   \n",
       "1                   0                      0                    0   \n",
       "2                   0                      0                    0   \n",
       "3                   0                      0                    0   \n",
       "4                   0                      0                    0   \n",
       "\n",
       "   location_Banashankari  location_Kothanur  location_Hormavu  \\\n",
       "0                      0                  0                 0   \n",
       "1                      0                  0                 0   \n",
       "2                      0                  0                 0   \n",
       "3                      0                  0                 0   \n",
       "4                      0                  0                 0   \n",
       "\n",
       "   location_Harlur  location_Akshaya Nagar  location_Jakkur  \\\n",
       "0                0                       0                0   \n",
       "1                0                       0                0   \n",
       "2                0                       0                0   \n",
       "3                0                       0                0   \n",
       "4                0                       0                0   \n",
       "\n",
       "   location_Electronics City Phase 1  location_Varthur  location_Hennur  \\\n",
       "0                                  0                 0                0   \n",
       "1                                  0                 0                0   \n",
       "2                                  0                 0                0   \n",
       "3                                  0                 0                0   \n",
       "4                                  0                 0                0   \n",
       "\n",
       "   location_HSR Layout  location_Chandapura  location_Ramamurthy Nagar  \\\n",
       "0                    0                    0                          0   \n",
       "1                    0                    0                          0   \n",
       "2                    0                    0                          0   \n",
       "3                    0                    0                          0   \n",
       "4                    0                    0                          0   \n",
       "\n",
       "   location_Kaggadasapura  location_Koramangala  location_Kundalahalli  \\\n",
       "0                       0                     0                      0   \n",
       "1                       0                     0                      0   \n",
       "2                       0                     0                      0   \n",
       "3                       0                     0                      0   \n",
       "4                       0                     0                      0   \n",
       "\n",
       "   location_Ramagondanahalli  location_Budigere  location_Hulimavu  \\\n",
       "0                          0                  0                  0   \n",
       "1                          0                  0                  0   \n",
       "2                          0                  0                  0   \n",
       "3                          0                  0                  0   \n",
       "4                          0                  0                  0   \n",
       "\n",
       "   location_Hoodi  location_Malleshwaram  location_JP Nagar  \\\n",
       "0               0                      0                  0   \n",
       "1               0                      0                  0   \n",
       "2               0                      0                  0   \n",
       "3               0                      0                  0   \n",
       "4               0                      0                  0   \n",
       "\n",
       "   location_Yeshwanthpur  location_Hegde Nagar  location_8th Phase JP Nagar  \\\n",
       "0                      0                     0                            0   \n",
       "1                      0                     0                            0   \n",
       "2                      0                     0                            0   \n",
       "3                      0                     0                            0   \n",
       "4                      0                     0                            0   \n",
       "\n",
       "   location_Gottigere  location_Channasandra  location_Bisuvanahalli  \\\n",
       "0                   0                      0                       0   \n",
       "1                   0                      0                       0   \n",
       "2                   0                      0                       0   \n",
       "3                   0                      0                       0   \n",
       "4                   0                      0                       0   \n",
       "\n",
       "   location_Vittasandra  location_Indira Nagar  location_Old Airport Road  \\\n",
       "0                     0                      0                          0   \n",
       "1                     0                      0                          0   \n",
       "2                     0                      0                          0   \n",
       "3                     0                      0                          0   \n",
       "4                     0                      0                          0   \n",
       "\n",
       "   location_Sahakara Nagar  location_Hosa Road  location_Brookefield  \\\n",
       "0                        0                   0                     0   \n",
       "1                        0                   0                     0   \n",
       "2                        0                   0                     0   \n",
       "3                        0                   0                     0   \n",
       "4                        0                   0                     0   \n",
       "\n",
       "   location_Vijayanagar  location_Kengeri  location_Bommasandra  \\\n",
       "0                     0                 0                     0   \n",
       "1                     0                 0                     0   \n",
       "2                     0                 0                     0   \n",
       "3                     0                 0                     0   \n",
       "4                     0                 0                     0   \n",
       "\n",
       "   location_Balagere  location_Green Glen Layout  location_Rachenahalli  \\\n",
       "0                  0                           0                      0   \n",
       "1                  0                           0                      0   \n",
       "2                  0                           0                      0   \n",
       "3                  0                           0                      0   \n",
       "4                  0                           0                      0   \n",
       "\n",
       "   location_Panathur  location_Kudlu Gate  location_Old Madras Road  \\\n",
       "0                  0                    0                         0   \n",
       "1                  0                    0                         0   \n",
       "2                  0                    0                         0   \n",
       "3                  0                    0                         0   \n",
       "4                  0                    0                         0   \n",
       "\n",
       "   location_Talaghattapura  location_Thigalarapalya  location_Ambedkar Nagar  \\\n",
       "0                        0                        0                        0   \n",
       "1                        0                        0                        0   \n",
       "2                        0                        0                        0   \n",
       "3                        0                        0                        0   \n",
       "4                        0                        0                        0   \n",
       "\n",
       "   location_Yelahanka New Town  location_Mysore Road  location_Jigani  \\\n",
       "0                            0                     0                0   \n",
       "1                            0                     0                0   \n",
       "2                            0                     0                0   \n",
       "3                            0                     0                0   \n",
       "4                            0                     0                0   \n",
       "\n",
       "   location_Kadugodi  location_Kanakapura  location_Devanahalli  \\\n",
       "0                  0                    0                     0   \n",
       "1                  0                    0                     0   \n",
       "2                  0                    0                     0   \n",
       "3                  0                    0                     0   \n",
       "4                  0                    0                     0   \n",
       "\n",
       "   location_Dodda Nekkundi  location_Attibele  location_Frazer Town  \\\n",
       "0                        0                  0                     0   \n",
       "1                        0                  0                     0   \n",
       "2                        0                  0                     0   \n",
       "3                        0                  0                     0   \n",
       "4                        0                  0                     0   \n",
       "\n",
       "   location_Nagarbhavi  location_Lakshminarayana Pura  location_Ananth Nagar  \\\n",
       "0                    0                              0                      0   \n",
       "1                    0                              0                      0   \n",
       "2                    0                              0                      0   \n",
       "3                    0                              0                      0   \n",
       "4                    0                              0                      0   \n",
       "\n",
       "   location_Anekal  location_5th Phase JP Nagar  location_TC Palaya  \\\n",
       "0                0                            0                   0   \n",
       "1                0                            0                   0   \n",
       "2                0                            0                   0   \n",
       "3                0                            0                   0   \n",
       "4                0                            0                   0   \n",
       "\n",
       "   location_CV Raman Nagar  location_Jalahalli  \\\n",
       "0                        0                   0   \n",
       "1                        0                   0   \n",
       "2                        0                   0   \n",
       "3                        0                   0   \n",
       "4                        0                   0   \n",
       "\n",
       "   location_Kengeri Satellite Town  location_Kudlu  location_Kalena Agrahara  \\\n",
       "0                                0               0                         0   \n",
       "1                                0               0                         0   \n",
       "2                                0               0                         0   \n",
       "3                                0               0                         0   \n",
       "4                                0               0                         0   \n",
       "\n",
       "   location_Bhoganhalli  location_Doddathoguru  location_Horamavu Agara  \\\n",
       "0                     0                      0                        0   \n",
       "1                     0                      0                        0   \n",
       "2                     0                      0                        0   \n",
       "3                     0                      0                        0   \n",
       "4                     0                      0                        0   \n",
       "\n",
       "   location_Subramanyapura  location_BTM 2nd Stage  location_Hebbal Kempapura  \\\n",
       "0                        0                       0                          0   \n",
       "1                        0                       0                          0   \n",
       "2                        0                       0                          0   \n",
       "3                        0                       0                          0   \n",
       "4                        0                       0                          0   \n",
       "\n",
       "   location_Hosur Road  location_Vidyaranyapura  location_Mahadevpura  \\\n",
       "0                    0                        0                     0   \n",
       "1                    0                        0                     0   \n",
       "2                    0                        0                     0   \n",
       "3                    0                        0                     0   \n",
       "4                    0                        0                     0   \n",
       "\n",
       "   location_Tumkur Road  location_Domlur  location_Horamavu Banaswadi  \n",
       "0                     0                0                            0  \n",
       "1                     0                0                            0  \n",
       "2                     0                0                            0  \n",
       "3                     0                0                            0  \n",
       "4                     0                0                            0  "
      ]
     },
     "execution_count": 57,
     "metadata": {},
     "output_type": "execute_result"
    }
   ],
   "source": [
    "df.head()"
   ]
  },
  {
   "cell_type": "code",
   "execution_count": 58,
   "metadata": {
    "colab": {
     "base_uri": "https://localhost:8080/"
    },
    "id": "y7UEhvYVSK4J",
    "outputId": "86e402f0-d3c8-44a0-9195-02cda0c65530"
   },
   "outputs": [
    {
     "data": {
      "text/plain": [
       "(7120, 109)"
      ]
     },
     "execution_count": 58,
     "metadata": {},
     "output_type": "execute_result"
    }
   ],
   "source": [
    "df.shape"
   ]
  },
  {
   "cell_type": "markdown",
   "metadata": {
    "id": "axowdsatcJaQ"
   },
   "source": [
    "## Split Dataset in train and test"
   ]
  },
  {
   "cell_type": "code",
   "execution_count": 59,
   "metadata": {
    "colab": {
     "base_uri": "https://localhost:8080/"
    },
    "id": "PU_DeM90b7As",
    "outputId": "978febe2-6aa0-4cf4-bdd2-7be8cfff8b42"
   },
   "outputs": [
    {
     "name": "stdout",
     "output_type": "stream",
     "text": [
      "Shape of X =  (7120, 108)\n",
      "Shape of y =  (7120,)\n"
     ]
    }
   ],
   "source": [
    "X = df.drop(\"price\", axis=1)\n",
    "y = df['price']\n",
    "print('Shape of X = ', X.shape)\n",
    "print('Shape of y = ', y.shape)"
   ]
  },
  {
   "cell_type": "code",
   "execution_count": 60,
   "metadata": {
    "colab": {
     "base_uri": "https://localhost:8080/"
    },
    "id": "aNVLPL-rcNwa",
    "outputId": "754453db-054d-4781-d548-beebc378a9f8"
   },
   "outputs": [
    {
     "name": "stdout",
     "output_type": "stream",
     "text": [
      "Shape of X_train =  (5696, 108)\n",
      "Shape of y_train =  (5696,)\n",
      "Shape of X_test =  (1424, 108)\n",
      "Shape of y_test =  (1424,)\n"
     ]
    }
   ],
   "source": [
    "from sklearn.model_selection import train_test_split\n",
    "X_train, X_test, y_train, y_test = train_test_split(X, y, test_size = 0.2, random_state = 51)\n",
    "print('Shape of X_train = ', X_train.shape)\n",
    "print('Shape of y_train = ', y_train.shape)\n",
    "print('Shape of X_test = ', X_test.shape)\n",
    "print('Shape of y_test = ', y_test.shape)"
   ]
  },
  {
   "cell_type": "markdown",
   "metadata": {
    "id": "Oh43OeUnfZAq"
   },
   "source": [
    "## Machine Learning Model Training"
   ]
  },
  {
   "cell_type": "markdown",
   "metadata": {
    "id": "d9-YKvESfcmd"
   },
   "source": [
    "## Linear Regression"
   ]
  },
  {
   "cell_type": "code",
   "execution_count": 61,
   "metadata": {
    "id": "GfPL9vJLcfXr"
   },
   "outputs": [],
   "source": [
    "from sklearn.linear_model import LinearRegression\n",
    "from sklearn.linear_model import Lasso\n",
    "from sklearn.linear_model import Ridge\n",
    "from sklearn.metrics import mean_squared_error\n",
    "lr = LinearRegression()\n",
    "lr_lasso = Lasso()\n",
    "lr_ridge = Ridge()"
   ]
  },
  {
   "cell_type": "code",
   "execution_count": 62,
   "metadata": {
    "id": "pG9byhg5YWGR"
   },
   "outputs": [],
   "source": [
    "def rmse(y_test, y_pred):\n",
    "  return np.sqrt(mean_squared_error(y_test, y_pred))"
   ]
  },
  {
   "cell_type": "code",
   "execution_count": 63,
   "metadata": {
    "colab": {
     "base_uri": "https://localhost:8080/"
    },
    "id": "WYm8ArSoff1p",
    "outputId": "15c73d18-710c-4001-d28a-be78c016790f"
   },
   "outputs": [
    {
     "data": {
      "text/plain": [
       "(0.7903837092682248, 0.5586175015990367)"
      ]
     },
     "execution_count": 63,
     "metadata": {},
     "output_type": "execute_result"
    }
   ],
   "source": [
    "lr.fit(X_train, y_train)\n",
    "lr_score = lr.score(X_test, y_test) # with all num var 0.7842744111909903\n",
    "lr_rmse = rmse(y_test, lr.predict(X_test))\n",
    "lr_score, lr_rmse"
   ]
  },
  {
   "cell_type": "code",
   "execution_count": 64,
   "metadata": {
    "colab": {
     "base_uri": "https://localhost:8080/"
    },
    "id": "sEhTsgE6fnXp",
    "outputId": "311355f7-678e-4a5a-da4c-e7417b54fa04"
   },
   "outputs": [
    {
     "data": {
      "text/plain": [
       "(-0.002351385011818641, 1.2215521704277348)"
      ]
     },
     "execution_count": 64,
     "metadata": {},
     "output_type": "execute_result"
    }
   ],
   "source": [
    "# Lasso\n",
    "lr_lasso.fit(X_train, y_train)\n",
    "lr_lasso_score=lr_lasso.score(X_test, y_test) # with balcony 0.5162364637824872\n",
    "lr_lasso_rmse = rmse(y_test, lr_lasso.predict(X_test))\n",
    "lr_lasso_score, lr_lasso_rmse"
   ]
  },
  {
   "cell_type": "markdown",
   "metadata": {
    "id": "-Bj8IKntls0S"
   },
   "source": [
    "##  Ridge Regression"
   ]
  },
  {
   "cell_type": "code",
   "execution_count": 65,
   "metadata": {
    "colab": {
     "base_uri": "https://localhost:8080/"
    },
    "id": "3bqlumdLls0S",
    "outputId": "7889c095-a28c-46b8-d683-c182d7b6eb33",
    "tags": []
   },
   "outputs": [
    {
     "data": {
      "text/plain": [
       "(0.7905121429581178, 0.5584463405222254)"
      ]
     },
     "execution_count": 65,
     "metadata": {},
     "output_type": "execute_result"
    }
   ],
   "source": [
    "lr_ridge.fit(X_train, y_train)\n",
    "\n",
    "# Calculate R-squared and RMSE for Ridge regression\n",
    "lr_ridge_score = lr_ridge.score(X_test, y_test)\n",
    "lr_ridge_rmse = rmse(y_test, lr_ridge.predict(X_test))\n",
    "\n",
    "# Output results\n",
    "lr_ridge_score, lr_ridge_rmse"
   ]
  },
  {
   "cell_type": "markdown",
   "metadata": {
    "id": "73sB16uxfwRm"
   },
   "source": [
    "## Support Vector Machine"
   ]
  },
  {
   "cell_type": "code",
   "execution_count": 66,
   "metadata": {
    "colab": {
     "base_uri": "https://localhost:8080/"
    },
    "id": "aep38HxxfsbA",
    "outputId": "b8027cc8-6fad-4291-eff4-308167d4b358"
   },
   "outputs": [
    {
     "data": {
      "text/plain": [
       "(0.5320018198409908, 0.8346878742639993)"
      ]
     },
     "execution_count": 66,
     "metadata": {},
     "output_type": "execute_result"
    }
   ],
   "source": [
    "from sklearn.svm import SVR\n",
    "svr = SVR()\n",
    "svr.fit(X_train,y_train)\n",
    "svr_score=svr.score(X_test,y_test) # with 0.2630802200711362\n",
    "svr_rmse = rmse(y_test, svr.predict(X_test))\n",
    "svr_score, svr_rmse"
   ]
  },
  {
   "cell_type": "markdown",
   "metadata": {
    "id": "w9-nexcsf5G3"
   },
   "source": [
    "## Random Forest Regressor"
   ]
  },
  {
   "cell_type": "code",
   "execution_count": 67,
   "metadata": {
    "colab": {
     "base_uri": "https://localhost:8080/"
    },
    "id": "ArlNrxFJf1ey",
    "outputId": "ab5e6a12-1cc1-4369-82d2-e36480edb156"
   },
   "outputs": [
    {
     "data": {
      "text/plain": [
       "(0.8823141856463242, 0.4185661281003623)"
      ]
     },
     "execution_count": 67,
     "metadata": {},
     "output_type": "execute_result"
    }
   ],
   "source": [
    "from sklearn.ensemble import RandomForestRegressor\n",
    "rfr = RandomForestRegressor()\n",
    "rfr.fit(X_train,y_train)\n",
    "rfr_score=rfr.score(X_test,y_test) # with 0.8863376025408044\n",
    "rfr_rmse = rmse(y_test, rfr.predict(X_test))\n",
    "rfr_score, rfr_rmse"
   ]
  },
  {
   "cell_type": "markdown",
   "metadata": {
    "id": "JjxIDyROgFj4"
   },
   "source": [
    "## XGBoost"
   ]
  },
  {
   "cell_type": "code",
   "execution_count": 68,
   "metadata": {
    "colab": {
     "base_uri": "https://localhost:8080/"
    },
    "id": "GefSOPbqf-4d",
    "outputId": "f0f7ba76-fbde-4e28-c69e-32905a20338d"
   },
   "outputs": [
    {
     "data": {
      "text/plain": [
       "(0.8816261023399705, 0.4197879771932514)"
      ]
     },
     "execution_count": 68,
     "metadata": {},
     "output_type": "execute_result"
    }
   ],
   "source": [
    "import xgboost\n",
    "xgb_reg = xgboost.XGBRegressor()\n",
    "xgb_reg.fit(X_train,y_train)\n",
    "xgb_reg_score=xgb_reg.score(X_test,y_test) # with 0.8838865742273464\n",
    "xgb_reg_rmse = rmse(y_test, xgb_reg.predict(X_test))\n",
    "xgb_reg_score, xgb_reg_rmse"
   ]
  },
  {
   "cell_type": "markdown",
   "metadata": {
    "id": "kKqk5vpwls0T",
    "tags": []
   },
   "source": [
    "## Gradient Boosting"
   ]
  },
  {
   "cell_type": "code",
   "execution_count": 69,
   "metadata": {
    "colab": {
     "base_uri": "https://localhost:8080/"
    },
    "id": "Evf5NmDRls0T",
    "outputId": "21b9bd55-d6c3-4281-ad82-408f9b122c35",
    "tags": []
   },
   "outputs": [
    {
     "name": "stdout",
     "output_type": "stream",
     "text": [
      "Gradient Boosting Regressor Score: 0.8929937992861947\n",
      "Gradient Boosting Regressor RMSE: 0.3991227603827983\n"
     ]
    }
   ],
   "source": [
    "from sklearn.ensemble import GradientBoostingRegressor\n",
    "from sklearn.metrics import mean_squared_error\n",
    "\n",
    "# Initialize the Gradient Boosting Regressor\n",
    "gb_reg = GradientBoostingRegressor()\n",
    "\n",
    "# Train the model\n",
    "gb_reg.fit(X_train, y_train)\n",
    "\n",
    "# Evaluate the model\n",
    "gb_reg_score = gb_reg.score(X_test, y_test)\n",
    "gb_reg_rmse = mean_squared_error(y_test, gb_reg.predict(X_test), squared=False)\n",
    "\n",
    "print(\"Gradient Boosting Regressor Score:\", gb_reg_score)\n",
    "print(\"Gradient Boosting Regressor RMSE:\", gb_reg_rmse)\n"
   ]
  },
  {
   "cell_type": "code",
   "execution_count": 70,
   "metadata": {
    "colab": {
     "base_uri": "https://localhost:8080/"
    },
    "id": "SjqSFnK4atAI",
    "outputId": "3480ab8b-c1ad-4bcc-e50c-101da458ab10"
   },
   "outputs": [
    {
     "name": "stdout",
     "output_type": "stream",
     "text": [
      "                    Model     Score      RMSE\n",
      "0       Linear Regression  0.790384  0.558618\n",
      "1                   Lasso -0.002351  1.221552\n",
      "2                   Ridge  0.790512  0.558446\n",
      "3  Support Vector Machine  0.532002  0.834688\n",
      "4           Random Forest  0.882314  0.418566\n",
      "5                 XGBoost  0.881626  0.419788\n"
     ]
    }
   ],
   "source": [
    "print(pd.DataFrame([{'Model': 'Linear Regression','Score':lr_score, \"RMSE\":lr_rmse},\n",
    "              {'Model': 'Lasso','Score':lr_lasso_score, \"RMSE\":lr_lasso_rmse},\n",
    "              {'Model': 'Ridge','Score':lr_ridge_score, \"RMSE\":lr_ridge_rmse},\n",
    "              {'Model': 'Support Vector Machine','Score':svr_score, \"RMSE\":svr_rmse},\n",
    "              {'Model': 'Random Forest','Score':rfr_score, \"RMSE\":rfr_rmse},\n",
    "              {'Model': 'XGBoost','Score':xgb_reg_score, \"RMSE\":xgb_reg_rmse}],\n",
    "             columns=['Model','Score','RMSE']))"
   ]
  },
  {
   "cell_type": "markdown",
   "metadata": {
    "id": "wb6hBVBvgSP4"
   },
   "source": [
    "## Cross Validation"
   ]
  },
  {
   "cell_type": "code",
   "execution_count": 71,
   "metadata": {
    "colab": {
     "base_uri": "https://localhost:8080/"
    },
    "id": "9X2-jzL8gJJJ",
    "outputId": "6376168d-18e6-49e2-efe4-acfe6a9040eb"
   },
   "outputs": [
    {
     "data": {
      "text/plain": [
       "(array([0.99257787, 0.96870437, 0.99464094, 0.96450387, 0.97146657,\n",
       "        0.98722626, 0.9918294 , 0.88277031, 0.98762663, 0.89978331]),\n",
       " 0.9641129524665274)"
      ]
     },
     "execution_count": 71,
     "metadata": {},
     "output_type": "execute_result"
    }
   ],
   "source": [
    "from sklearn.model_selection import KFold,cross_val_score\n",
    "cvs = cross_val_score(xgb_reg, X_train,y_train, cv = 10)\n",
    "cvs, cvs.mean() # 0.9845963377450353)'''"
   ]
  },
  {
   "cell_type": "code",
   "execution_count": 72,
   "metadata": {
    "colab": {
     "base_uri": "https://localhost:8080/"
    },
    "id": "3SRukRf9gWc3",
    "outputId": "f3a62579-27a2-4b92-9ea2-0965ed5476df"
   },
   "outputs": [
    {
     "data": {
      "text/plain": [
       "(array([0.99038818, 0.95925565, 0.9974403 , 0.96100168, 0.96356366,\n",
       "        0.94680385, 0.91979552, 0.92040819, 0.99687215, 0.98257041]),\n",
       " 0.9638099581419006)"
      ]
     },
     "execution_count": 72,
     "metadata": {},
     "output_type": "execute_result"
    }
   ],
   "source": [
    "cvs_rfr = cross_val_score(rfr, X_train,y_train, cv = 10)\n",
    "cvs_rfr, cvs_rfr.mean() # 0.9652425691235843)'''"
   ]
  },
  {
   "cell_type": "code",
   "execution_count": 73,
   "metadata": {
    "colab": {
     "base_uri": "https://localhost:8080/"
    },
    "id": "fOE4aTNGUyTP",
    "outputId": "e9e96794-997b-4819-cffe-011e8796223c"
   },
   "outputs": [
    {
     "data": {
      "text/plain": [
       "(array([0.9935138 , 0.95009312, 0.99721276, 0.97330127, 0.9655281 ,\n",
       "        0.95775005, 0.94735214, 0.90674224, 0.99616294, 0.98617883]),\n",
       " 0.9673835256572895)"
      ]
     },
     "execution_count": 73,
     "metadata": {},
     "output_type": "execute_result"
    }
   ],
   "source": [
    "# from sklearn.model_selection import cross_val_score\n",
    "# cvs_rfr2 = cross_val_score(RandomForestRegressor(), X_train,y_train, cv = 10)\n",
    "# cvs_rfr2, cvs_rfr2.mean() # 0.9652425691235843)"
   ]
  },
  {
   "cell_type": "markdown",
   "metadata": {
    "id": "9r5gSFsWgwsF"
   },
   "source": [
    "# Hyper Parmeter Tuning"
   ]
  },
  {
   "cell_type": "code",
   "execution_count": 74,
   "metadata": {
    "cellView": "both",
    "colab": {
     "base_uri": "https://localhost:8080/"
    },
    "id": "Trmslcv4h6ll",
    "outputId": "33d81827-d5f4-4bcd-cb5f-dad53825b39d"
   },
   "outputs": [
    {
     "name": "stdout",
     "output_type": "stream",
     "text": [
      "Fitting 2 folds for each of 128 candidates, totalling 256 fits\n"
     ]
    },
    {
     "name": "stderr",
     "output_type": "stream",
     "text": [
      "C:\\Users\\Lenovo\\anaconda3\\Lib\\site-packages\\xgboost\\core.py:160: UserWarning: [09:08:14] WARNING: C:\\buildkite-agent\\builds\\buildkite-windows-cpu-autoscaling-group-i-0b3782d1791676daf-1\\xgboost\\xgboost-ci-windows\\src\\objective\\regression_obj.cu:209: reg:linear is now deprecated in favor of reg:squarederror.\n",
      "  warnings.warn(smsg, UserWarning)\n"
     ]
    },
    {
     "name": "stdout",
     "output_type": "stream",
     "text": [
      "0.9447477969898048\n",
      "{'colsample_bytree': 1, 'gamma': 0, 'learning_rate': 0.05, 'max_depth': 4, 'min_child_weight': 3, 'n_estimators': 300, 'objective': 'reg:linear', 'subsample': 0.7}\n"
     ]
    }
   ],
   "source": [
    "from sklearn.model_selection import GridSearchCV\n",
    "from xgboost.sklearn import XGBRegressor\n",
    "\n",
    "# Various hyper-parameters to tune\n",
    "xgb1 = XGBRegressor()\n",
    "parameters = {'learning_rate': [0.1, 0.05], #so called `eta` value, # [default=0.3] Analogous to learning rate in GBM\n",
    "              'min_child_weight': [1,3], #[default=1] Defines the minimum sum of weights of all observations required in a child.\n",
    "              'max_depth': [4, 6], #[default=6] The maximum depth of a tree,\n",
    "              'gamma':[0,0.1], #Gamma specifies the minimum loss reduction required to make a split.\n",
    "              'subsample': [0.7,1], #Denotes the fraction of observations to be randomly samples for each tree.\n",
    "              'colsample_bytree': [0.7,1], #Denotes the fraction of columns to be randomly samples for each tree.\n",
    "              'objective':['reg:linear'], #This defines the loss function to be minimized.\n",
    "\n",
    "              'n_estimators': [100,300]}\n",
    "\n",
    "xgb_grid = GridSearchCV(xgb1,\n",
    "                        parameters,\n",
    "                        cv = 2,\n",
    "                        n_jobs = -1,\n",
    "                        verbose=True)\n",
    "\n",
    "xgb_grid.fit(X_train, y_train)\n",
    "\n",
    "print(xgb_grid.best_score_) # 0.9443385284069454\n",
    "print(xgb_grid.best_params_)"
   ]
  },
  {
   "cell_type": "code",
   "execution_count": 75,
   "metadata": {
    "cellView": "both",
    "colab": {
     "base_uri": "https://localhost:8080/",
     "height": 34
    },
    "id": "yJkArgKqj4y_",
    "outputId": "4b9703ff-3f4a-40b0-ccfa-50b3fb7da614"
   },
   "outputs": [
    {
     "data": {
      "text/plain": [
       "'xgb_tune = xgb_grid.estimator\\n\\nxgb_tune.fit(X_train,y_train) # 0.9117591385438816\\nxgb_tune.score(X_test,y_test)'"
      ]
     },
     "execution_count": 75,
     "metadata": {},
     "output_type": "execute_result"
    }
   ],
   "source": [
    "'''xgb_tune = xgb_grid.estimator\n",
    "\n",
    "xgb_tune.fit(X_train,y_train) # 0.9117591385438816\n",
    "xgb_tune.score(X_test,y_test)'''"
   ]
  },
  {
   "cell_type": "code",
   "execution_count": 76,
   "metadata": {
    "colab": {
     "base_uri": "https://localhost:8080/",
     "height": 34
    },
    "id": "wNCK-W4SkMAh",
    "outputId": "79075545-215e-4798-a599-df1487ed75ef"
   },
   "outputs": [
    {
     "data": {
      "text/plain": [
       "'cvs = cross_val_score(xgb_tune, X_train,y_train, cv = 10)\\ncvs, cvs.mean() #  0.9645582338461773)'"
      ]
     },
     "execution_count": 76,
     "metadata": {},
     "output_type": "execute_result"
    }
   ],
   "source": [
    "'''cvs = cross_val_score(xgb_tune, X_train,y_train, cv = 10)\n",
    "cvs, cvs.mean() #  0.9645582338461773)'''"
   ]
  },
  {
   "cell_type": "code",
   "execution_count": 77,
   "metadata": {
    "colab": {
     "base_uri": "https://localhost:8080/"
    },
    "id": "fCtoITd4eaci",
    "outputId": "6e869898-31b1-4037-c8d3-a3fd7f306ea3"
   },
   "outputs": [
    {
     "name": "stderr",
     "output_type": "stream",
     "text": [
      "C:\\Users\\Lenovo\\anaconda3\\Lib\\site-packages\\xgboost\\core.py:160: UserWarning: [09:08:15] WARNING: C:\\buildkite-agent\\builds\\buildkite-windows-cpu-autoscaling-group-i-0b3782d1791676daf-1\\xgboost\\xgboost-ci-windows\\src\\objective\\regression_obj.cu:209: reg:linear is now deprecated in favor of reg:squarederror.\n",
      "  warnings.warn(smsg, UserWarning)\n"
     ]
    },
    {
     "data": {
      "text/plain": [
       "0.8915033695880655"
      ]
     },
     "execution_count": 77,
     "metadata": {},
     "output_type": "execute_result"
    }
   ],
   "source": [
    "#[i/10.0 for i in range(1,6)]\n",
    "#xgb_grid.estimator\n",
    "missing_value = -999\n",
    "xgb_tune2 =  XGBRegressor(base_score=0.5, booster='gbtree', colsample_bylevel=1,\n",
    "             colsample_bynode=0.6, colsample_bytree=1, gamma=0,\n",
    "             importance_type='gain', learning_rate=0.25, max_delta_step=0,\n",
    "             max_depth=4, min_child_weight=1, missing=missing_value, n_estimators=400,\n",
    "             n_jobs=1, nthread=None, objective='reg:linear', random_state=0,\n",
    "             reg_alpha=0, reg_lambda=1, scale_pos_weight=1, seed=None,\n",
    "             silent=None, subsample=1, verbosity=1)\n",
    "xgb_tune2.fit(X_train,y_train) # 0.9412851220926807\n",
    "xgb_tune2.score(X_test,y_test)"
   ]
  },
  {
   "cell_type": "code",
   "execution_count": 78,
   "metadata": {
    "colab": {
     "base_uri": "https://localhost:8080/"
    },
    "id": "66kzeVolaEUk",
    "outputId": "b5bae1ff-5e31-4df7-c86a-f586b0bd7a58"
   },
   "outputs": [
    {
     "name": "stderr",
     "output_type": "stream",
     "text": [
      "C:\\Users\\Lenovo\\anaconda3\\Lib\\site-packages\\xgboost\\core.py:160: UserWarning: [09:08:16] WARNING: C:\\buildkite-agent\\builds\\buildkite-windows-cpu-autoscaling-group-i-0b3782d1791676daf-1\\xgboost\\xgboost-ci-windows\\src\\objective\\regression_obj.cu:209: reg:linear is now deprecated in favor of reg:squarederror.\n",
      "  warnings.warn(smsg, UserWarning)\n"
     ]
    },
    {
     "data": {
      "text/plain": [
       "0.7938661832091214"
      ]
     },
     "execution_count": 78,
     "metadata": {},
     "output_type": "execute_result"
    }
   ],
   "source": [
    "'''parameters = {'learning_rate': [0.1, 0.05], #so called `eta` value, # [default=0.3] Analogous to learning rate in GBM\n",
    "              'min_child_weight': [1,3], #[default=1] Defines the minimum sum of weights of all observations required in a child.\n",
    "              'max_depth': [4, 6], #[default=6] The maximum depth of a tree,\n",
    "              'gamma':[0,0.1], #Gamma specifies the minimum loss reduction required to make a split.\n",
    "              'subsample': [0.7,1], #Denotes the fraction of observations to be randomly samples for each tree.\n",
    "              'colsample_bytree': [0.7,1], #Denotes the fraction of columns to be randomly samples for each tree.\n",
    "              'objective':['reg:linear'], #This defines the loss function to be minimized.\n",
    "\n",
    "              'n_estimators': [100,300]}'''\n",
    "\n",
    "xgb_tune2 =  XGBRegressor(base_score=0.5, booster='gbtree', colsample_bylevel=1,\n",
    "             colsample_bynode=0.9, colsample_bytree=1, gamma=0.01,\n",
    "             importance_type='gain', learning_rate=0.05, max_delta_step=0,\n",
    "             max_depth=4, min_child_weight=3, missing=missing_value, n_estimators=300,\n",
    "             n_jobs=1, nthread=None, objective='reg:linear', random_state=0,\n",
    "             reg_alpha=0, reg_lambda=1, scale_pos_weight=1, seed=None,\n",
    "             silent=None, subsample=0.07, verbosity=1)\n",
    "xgb_tune2.fit(X_train,y_train) # 0.9412851220926807\n",
    "xgb_tune2.score(X_test,y_test)"
   ]
  },
  {
   "cell_type": "code",
   "execution_count": 79,
   "metadata": {
    "colab": {
     "base_uri": "https://localhost:8080/"
    },
    "id": "6FU4x7iBfMPH",
    "outputId": "3ed33fa2-4020-428d-f46c-53a90e089e04"
   },
   "outputs": [
    {
     "name": "stderr",
     "output_type": "stream",
     "text": [
      "C:\\Users\\Lenovo\\anaconda3\\Lib\\site-packages\\xgboost\\core.py:160: UserWarning: [09:08:17] WARNING: C:\\buildkite-agent\\builds\\buildkite-windows-cpu-autoscaling-group-i-0b3782d1791676daf-1\\xgboost\\xgboost-ci-windows\\src\\objective\\regression_obj.cu:209: reg:linear is now deprecated in favor of reg:squarederror.\n",
      "  warnings.warn(smsg, UserWarning)\n",
      "C:\\Users\\Lenovo\\anaconda3\\Lib\\site-packages\\xgboost\\core.py:160: UserWarning: [09:08:17] WARNING: C:\\buildkite-agent\\builds\\buildkite-windows-cpu-autoscaling-group-i-0b3782d1791676daf-1\\xgboost\\xgboost-ci-windows\\src\\objective\\regression_obj.cu:209: reg:linear is now deprecated in favor of reg:squarederror.\n",
      "  warnings.warn(smsg, UserWarning)\n",
      "C:\\Users\\Lenovo\\anaconda3\\Lib\\site-packages\\xgboost\\core.py:160: UserWarning: [09:08:18] WARNING: C:\\buildkite-agent\\builds\\buildkite-windows-cpu-autoscaling-group-i-0b3782d1791676daf-1\\xgboost\\xgboost-ci-windows\\src\\objective\\regression_obj.cu:209: reg:linear is now deprecated in favor of reg:squarederror.\n",
      "  warnings.warn(smsg, UserWarning)\n",
      "C:\\Users\\Lenovo\\anaconda3\\Lib\\site-packages\\xgboost\\core.py:160: UserWarning: [09:08:18] WARNING: C:\\buildkite-agent\\builds\\buildkite-windows-cpu-autoscaling-group-i-0b3782d1791676daf-1\\xgboost\\xgboost-ci-windows\\src\\objective\\regression_obj.cu:209: reg:linear is now deprecated in favor of reg:squarederror.\n",
      "  warnings.warn(smsg, UserWarning)\n",
      "C:\\Users\\Lenovo\\anaconda3\\Lib\\site-packages\\xgboost\\core.py:160: UserWarning: [09:08:19] WARNING: C:\\buildkite-agent\\builds\\buildkite-windows-cpu-autoscaling-group-i-0b3782d1791676daf-1\\xgboost\\xgboost-ci-windows\\src\\objective\\regression_obj.cu:209: reg:linear is now deprecated in favor of reg:squarederror.\n",
      "  warnings.warn(smsg, UserWarning)\n"
     ]
    },
    {
     "data": {
      "text/plain": [
       "(array([0.91787782, 0.92743506, 0.94607321, 0.78776797, 0.89542506]),\n",
       " 0.89491582289339)"
      ]
     },
     "execution_count": 79,
     "metadata": {},
     "output_type": "execute_result"
    }
   ],
   "source": [
    "cvs = cross_val_score(xgb_tune2, X_train,y_train, cv = 5)\n",
    "cvs, cvs.mean() #  0.9706000326331659'''"
   ]
  },
  {
   "cell_type": "code",
   "execution_count": 80,
   "metadata": {
    "colab": {
     "base_uri": "https://localhost:8080/"
    },
    "id": "WhZks478fQvN",
    "outputId": "d7d95f92-7e22-437a-ac21-f85c78925bab"
   },
   "outputs": [
    {
     "data": {
      "text/plain": [
       "0.5539577526000029"
      ]
     },
     "execution_count": 80,
     "metadata": {},
     "output_type": "execute_result"
    }
   ],
   "source": [
    "np.sqrt(mean_squared_error(y_test, xgb_tune2.predict(X_test)))"
   ]
  },
  {
   "cell_type": "markdown",
   "metadata": {
    "id": "HMfJzdNkimif"
   },
   "source": [
    "## Test Model"
   ]
  },
  {
   "cell_type": "code",
   "execution_count": 81,
   "metadata": {
    "colab": {
     "base_uri": "https://localhost:8080/",
     "height": 1000
    },
    "id": "ppJWFinaiovG",
    "outputId": "fbb3d745-36c2-4ab9-d10a-d0dd3e0daf7a"
   },
   "outputs": [
    {
     "data": {
      "text/plain": [
       "['bath',\n",
       " 'balcony',\n",
       " 'total_sqft_int',\n",
       " 'bhk',\n",
       " 'price_per_sqft',\n",
       " 'area_typeSuper built-up  Area',\n",
       " 'area_typeBuilt-up  Area',\n",
       " 'area_typePlot  Area',\n",
       " 'availability_Ready To Move',\n",
       " 'location_other',\n",
       " 'location_Whitefield',\n",
       " 'location_Sarjapur  Road',\n",
       " 'location_Electronic City',\n",
       " 'location_Haralur Road',\n",
       " 'location_Marathahalli',\n",
       " 'location_Raja Rajeshwari Nagar',\n",
       " 'location_Bannerghatta Road',\n",
       " 'location_Hennur Road',\n",
       " 'location_Uttarahalli',\n",
       " 'location_Thanisandra',\n",
       " 'location_Electronic City Phase II',\n",
       " 'location_Hebbal',\n",
       " 'location_7th Phase JP Nagar',\n",
       " 'location_Yelahanka',\n",
       " 'location_Kanakpura Road',\n",
       " 'location_KR Puram',\n",
       " 'location_Sarjapur',\n",
       " 'location_Rajaji Nagar',\n",
       " 'location_Bellandur',\n",
       " 'location_Kasavanhalli',\n",
       " 'location_Begur Road',\n",
       " 'location_Banashankari',\n",
       " 'location_Kothanur',\n",
       " 'location_Hormavu',\n",
       " 'location_Harlur',\n",
       " 'location_Akshaya Nagar',\n",
       " 'location_Jakkur',\n",
       " 'location_Electronics City Phase 1',\n",
       " 'location_Varthur',\n",
       " 'location_Hennur',\n",
       " 'location_HSR Layout',\n",
       " 'location_Chandapura',\n",
       " 'location_Ramamurthy Nagar',\n",
       " 'location_Kaggadasapura',\n",
       " 'location_Koramangala',\n",
       " 'location_Kundalahalli',\n",
       " 'location_Ramagondanahalli',\n",
       " 'location_Budigere',\n",
       " 'location_Hulimavu',\n",
       " 'location_Hoodi',\n",
       " 'location_Malleshwaram',\n",
       " 'location_JP Nagar',\n",
       " 'location_Yeshwanthpur',\n",
       " 'location_Hegde Nagar',\n",
       " 'location_8th Phase JP Nagar',\n",
       " 'location_Gottigere',\n",
       " 'location_Channasandra',\n",
       " 'location_Bisuvanahalli',\n",
       " 'location_Vittasandra',\n",
       " 'location_Indira Nagar',\n",
       " 'location_Old Airport Road',\n",
       " 'location_Sahakara Nagar',\n",
       " 'location_Hosa Road',\n",
       " 'location_Brookefield',\n",
       " 'location_Vijayanagar',\n",
       " 'location_Kengeri',\n",
       " 'location_Bommasandra',\n",
       " 'location_Balagere',\n",
       " 'location_Green Glen Layout',\n",
       " 'location_Rachenahalli',\n",
       " 'location_Panathur',\n",
       " 'location_Kudlu Gate',\n",
       " 'location_Old Madras Road',\n",
       " 'location_Talaghattapura',\n",
       " 'location_Thigalarapalya',\n",
       " 'location_Ambedkar Nagar',\n",
       " 'location_Yelahanka New Town',\n",
       " 'location_Mysore Road',\n",
       " 'location_Jigani',\n",
       " 'location_Kadugodi',\n",
       " 'location_Kanakapura',\n",
       " 'location_Devanahalli',\n",
       " 'location_Dodda Nekkundi',\n",
       " 'location_Attibele',\n",
       " 'location_Frazer Town',\n",
       " 'location_Nagarbhavi',\n",
       " 'location_Lakshminarayana Pura',\n",
       " 'location_Ananth Nagar',\n",
       " 'location_Anekal',\n",
       " 'location_5th Phase JP Nagar',\n",
       " 'location_TC Palaya',\n",
       " 'location_CV Raman Nagar',\n",
       " 'location_Jalahalli',\n",
       " 'location_Kengeri Satellite Town',\n",
       " 'location_Kudlu',\n",
       " 'location_Kalena Agrahara',\n",
       " 'location_Bhoganhalli',\n",
       " 'location_Doddathoguru',\n",
       " 'location_Horamavu Agara',\n",
       " 'location_Subramanyapura',\n",
       " 'location_BTM 2nd Stage',\n",
       " 'location_Hebbal Kempapura',\n",
       " 'location_Hosur Road',\n",
       " 'location_Vidyaranyapura',\n",
       " 'location_Mahadevpura',\n",
       " 'location_Tumkur Road',\n",
       " 'location_Domlur',\n",
       " 'location_Horamavu Banaswadi']"
      ]
     },
     "execution_count": 81,
     "metadata": {},
     "output_type": "execute_result"
    }
   ],
   "source": [
    "list(X.columns)"
   ]
  },
  {
   "cell_type": "code",
   "execution_count": 82,
   "metadata": {
    "id": "udzrDV2fisfs"
   },
   "outputs": [],
   "source": [
    "# it help to get predicted value of hosue  by providing features value\n",
    "def predict_house_price(model,bath,balcony,total_sqft_int,bhk,price_per_sqft,area_type,availability,location):\n",
    "\n",
    "  x =np.zeros(len(X.columns)) # create zero numpy array, len = 107 as input value for model\n",
    "\n",
    "  # adding feature's value accorind to their column index\n",
    "  x[0]=bath\n",
    "  x[1]=balcony\n",
    "  x[2]=total_sqft_int\n",
    "  x[3]=bhk\n",
    "  x[4]=price_per_sqft\n",
    "\n",
    "  if \"availability\"==\"Ready To Move\":\n",
    "    x[8]=1\n",
    "\n",
    "  if 'area_type'+area_type in X.columns:\n",
    "    area_type_index = np.where(X.columns==\"area_type\"+area_type)[0][0]\n",
    "    x[area_type_index] =1\n",
    "\n",
    "    #print(area_type_index)\n",
    "\n",
    "  if 'location_'+location in X.columns:\n",
    "    loc_index = np.where(X.columns==\"location_\"+location)[0][0]\n",
    "    x[loc_index] =1\n",
    "\n",
    "    #print(loc_index)\n",
    "\n",
    "  #print(x)\n",
    "\n",
    "  # feature scaling\n",
    "  x = sc.transform([x])[0] # give 2d np array for feature scaling and get 1d scaled np array\n",
    "  #print(x)\n",
    "\n",
    "  return model.predict([x])[0] # return the predicted value by train XGBoost model"
   ]
  },
  {
   "cell_type": "code",
   "execution_count": 83,
   "metadata": {
    "id": "cP2-LZ41GVd2"
   },
   "outputs": [
    {
     "name": "stderr",
     "output_type": "stream",
     "text": [
      "C:\\Users\\Lenovo\\anaconda3\\Lib\\site-packages\\sklearn\\base.py:464: UserWarning: X does not have valid feature names, but StandardScaler was fitted with feature names\n",
      "  warnings.warn(\n"
     ]
    },
    {
     "data": {
      "text/plain": [
       "0.4936973"
      ]
     },
     "execution_count": 83,
     "metadata": {},
     "output_type": "execute_result"
    }
   ],
   "source": [
    "predict_house_price(model=xgb_tune2, bath=3,balcony=2,total_sqft_int=1672,bhk=3,price_per_sqft=8971.291866,area_type=\"Plot  Area\",availability=\"Ready To Move\",location=\"Devarabeesana Halli\")"
   ]
  },
  {
   "cell_type": "code",
   "execution_count": 84,
   "metadata": {
    "colab": {
     "base_uri": "https://localhost:8080/",
     "height": 34
    },
    "id": "FT6oIIPlHRmx",
    "outputId": "17191715-4f18-44d5-82fe-4d26df101715"
   },
   "outputs": [
    {
     "name": "stderr",
     "output_type": "stream",
     "text": [
      "C:\\Users\\Lenovo\\anaconda3\\Lib\\site-packages\\sklearn\\base.py:464: UserWarning: X does not have valid feature names, but StandardScaler was fitted with feature names\n",
      "  warnings.warn(\n"
     ]
    },
    {
     "data": {
      "text/plain": [
       "0.47696388"
      ]
     },
     "execution_count": 84,
     "metadata": {},
     "output_type": "execute_result"
    }
   ],
   "source": [
    "##test sample\n",
    "#area_type\tavailability\tlocation\tbath\tbalcony\tprice\ttotal_sqft_int\tbhk\tprice_per_sqft\n",
    "#2\tSuper built-up Area\tReady To Move\tDevarabeesana Halli\t3.0\t2.0\t150.0\t1750.0\t3\t8571.428571\n",
    "\n",
    "predict_house_price(model=xgb_tune2, bath=3,balcony=2,total_sqft_int=1750,bhk=3,price_per_sqft=8571.428571,area_type=\"Super built-up\",availability=\"Ready To Move\",location=\"Devarabeesana Halli\")"
   ]
  },
  {
   "cell_type": "code",
   "execution_count": 85,
   "metadata": {
    "colab": {
     "base_uri": "https://localhost:8080/",
     "height": 34
    },
    "id": "TXG6GFOxGw6w",
    "outputId": "1920210b-706b-4f61-8597-1ac5712413f1"
   },
   "outputs": [
    {
     "name": "stderr",
     "output_type": "stream",
     "text": [
      "C:\\Users\\Lenovo\\anaconda3\\Lib\\site-packages\\sklearn\\base.py:464: UserWarning: X does not have valid feature names, but StandardScaler was fitted with feature names\n",
      "  warnings.warn(\n"
     ]
    },
    {
     "data": {
      "text/plain": [
       "0.47696388"
      ]
     },
     "execution_count": 85,
     "metadata": {},
     "output_type": "execute_result"
    }
   ],
   "source": [
    "##test sample\n",
    "#area_type\tavailability\tlocation\tbath\tbalcony\tprice\ttotal_sqft_int\tbhk\tprice_per_sqft\n",
    "#1\tBuilt-up Area\tReady To Move\tDevarabeesana Halli\t3.0\t3.0\t149.0\t1750.0\t3\t8514.285714\n",
    "predict_house_price(model=xgb_tune2,bath=3,balcony=3,total_sqft_int=1750,bhk=3,price_per_sqft=8514.285714,area_type=\"Built-up Area\",availability=\"Ready To Move\",location=\"Devarabeesana Halli\")"
   ]
  },
  {
   "cell_type": "code",
   "execution_count": 86,
   "metadata": {
    "id": "vZTSxtDcls0a",
    "outputId": "c86d3c47-384c-4778-8a8f-3e144c5e51e8",
    "tags": []
   },
   "outputs": [
    {
     "data": {
      "image/png": "[encoded data removed]",
      "text/plain": [
       "<Figure size 1000x500 with 1 Axes>"
      ]
     },
     "metadata": {},
     "output_type": "display_data"
    },
    {
     "data": {
      "image/png": "[encoded data removed]",
      "text/plain": [
       "<Figure size 1000x500 with 1 Axes>"
      ]
     },
     "metadata": {},
     "output_type": "display_data"
    }
   ],
   "source": [
    "import pandas as pd\n",
    "import matplotlib.pyplot as plt\n",
    "import seaborn as sns\n",
    "\n",
    "# Create DataFrame\n",
    "data = [{'Model': 'Linear Regression', 'Score': lr_score, 'RMSE': lr_rmse},\n",
    "        {'Model': 'Lasso', 'Score': lr_lasso_score, 'RMSE': lr_lasso_rmse},\n",
    "        {'Model': 'Ridge', 'Score': lr_ridge_score, 'RMSE': lr_ridge_rmse},  # Include Ridge\n",
    "        {'Model': 'Support Vector Machine', 'Score': svr_score, 'RMSE': svr_rmse},\n",
    "        {'Model': 'Random Forest', 'Score': rfr_score, 'RMSE': rfr_rmse},\n",
    "        {'Model': 'XGBoost', 'Score': xgb_reg_score, 'RMSE': xgb_reg_rmse},\n",
    "        {'Model': 'Gradient Boosting', 'Score': gb_reg_score, 'RMSE': gb_reg_rmse}]\n",
    "\n",
    "df = pd.DataFrame(data)\n",
    "\n",
    "# Set up the matplotlib figure for Score\n",
    "plt.figure(figsize=(10, 5))\n",
    "sns.barplot(x='Model', y='Score', data=df, palette='Blues_d')\n",
    "plt.xlabel('Model')\n",
    "plt.ylabel('Score')\n",
    "plt.title('Model Performance Comparison (Score)')\n",
    "plt.xticks(rotation=45, ha='right')  # Rotate x-labels for better readability\n",
    "plt.tight_layout()\n",
    "plt.show()\n",
    "\n",
    "# Set up the matplotlib figure for RMSE\n",
    "plt.figure(figsize=(10, 5))\n",
    "sns.barplot(x='Model', y='RMSE', data=df, palette='Reds_d')\n",
    "plt.xlabel('Model')\n",
    "plt.ylabel('RMSE')\n",
    "plt.title('Model Performance Comparison (RMSE)')\n",
    "plt.xticks(rotation=45, ha='right')  # Rotate x-labels for better readability\n",
    "plt.tight_layout()\n",
    "plt.show()\n"
   ]
  }
 ],
 "metadata": {
  "colab": {
   "collapsed_sections": [
    "Oh43OeUnfZAq"
   ],
   "provenance": []
  },
  "kernelspec": {
   "display_name": "Python 3 (ipykernel)",
   "language": "python",
   "name": "python3"
  },
  "language_info": {
   "codemirror_mode": {
    "name": "ipython",
    "version": 3
   },
   "file_extension": ".py",
   "mimetype": "text/x-python",
   "name": "python",
   "nbconvert_exporter": "python",
   "pygments_lexer": "ipython3",
   "version": "3.11.5"
  }
 },
 "nbformat": 4,
 "nbformat_minor": 4
}
